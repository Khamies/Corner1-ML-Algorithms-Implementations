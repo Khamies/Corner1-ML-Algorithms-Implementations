{
  "nbformat": 4,
  "nbformat_minor": 0,
  "metadata": {
    "colab": {
      "name": "Linear_Regression.ipynb",
      "version": "0.3.2",
      "provenance": []
    },
    "kernelspec": {
      "name": "python3",
      "display_name": "Python 3"
    }
  },
  "cells": [
    {
      "metadata": {
        "id": "EAIIXneFaUlg",
        "colab_type": "text"
      },
      "cell_type": "markdown",
      "source": [
        "## Import libraries"
      ]
    },
    {
      "metadata": {
        "id": "ecd6ErG2atsn",
        "colab_type": "code",
        "colab": {}
      },
      "cell_type": "code",
      "source": [
        "import numpy as np\n",
        "import torch"
      ],
      "execution_count": 0,
      "outputs": []
    },
    {
      "metadata": {
        "id": "RhUG2sd0gruh",
        "colab_type": "text"
      },
      "cell_type": "markdown",
      "source": [
        "## Generate random data"
      ]
    },
    {
      "metadata": {
        "id": "QPBCZ89Ha6kx",
        "colab_type": "code",
        "colab": {}
      },
      "cell_type": "code",
      "source": [
        "# Generate data from uniform distribution\n",
        "\n",
        "X0 = (5-10)*np.random.random() + 10 # generate number between [b=5,a=10), (b-a)* t + a , t=[0,1]\n",
        "\n",
        "X1 = np.random.rand(2,2)         # Generate unoform data between 0,1 with dimension 2*2\n",
        "X2 = np.random.randn(3,5)        # Generate guassian distribution data with mean = 0, std = 1 and with dimension 3*5\n",
        "X3 = np.random.randint(0,10,(5,1)) # Generate random integer data, start = 0 , end =10, size = 5*1."
      ],
      "execution_count": 0,
      "outputs": []
    },
    {
      "metadata": {
        "id": "HQgfoFNLgQ57",
        "colab_type": "code",
        "colab": {}
      },
      "cell_type": "code",
      "source": [
        ""
      ],
      "execution_count": 0,
      "outputs": []
    },
    {
      "metadata": {
        "id": "DR0RV1yHf3zE",
        "colab_type": "code",
        "colab": {}
      },
      "cell_type": "code",
      "source": [
        ""
      ],
      "execution_count": 0,
      "outputs": []
    },
    {
      "metadata": {
        "id": "40iyJ2RMgjZv",
        "colab_type": "code",
        "colab": {}
      },
      "cell_type": "code",
      "source": [
        "\n"
      ],
      "execution_count": 0,
      "outputs": []
    },
    {
      "metadata": {
        "id": "AVr7CeHwil8d",
        "colab_type": "code",
        "colab": {}
      },
      "cell_type": "code",
      "source": [
        ""
      ],
      "execution_count": 0,
      "outputs": []
    },
    {
      "metadata": {
        "id": "e2bsDG72vb5R",
        "colab_type": "text"
      },
      "cell_type": "markdown",
      "source": [
        "## Linear Regression"
      ]
    },
    {
      "metadata": {
        "id": "S5FecfktkAf8",
        "colab_type": "code",
        "colab": {}
      },
      "cell_type": "code",
      "source": [
        ""
      ],
      "execution_count": 0,
      "outputs": []
    }
  ]
}